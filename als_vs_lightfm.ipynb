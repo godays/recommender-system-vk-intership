{
  "cells": [
    {
      "cell_type": "code",
      "execution_count": 1,
      "metadata": {
        "id": "f77ccf30"
      },
      "outputs": [],
      "source": [
        "import pandas as pd\n",
        "import numpy as np\n",
        "import random"
      ],
      "id": "f77ccf30"
    },
    {
      "cell_type": "code",
      "execution_count": 2,
      "metadata": {
        "colab": {
          "base_uri": "https://localhost:8080/"
        },
        "id": "RVaWV6jF9BwU",
        "outputId": "6adeca8e-2bfd-4582-f24f-0e628cd77af3"
      },
      "outputs": [
        {
          "output_type": "stream",
          "name": "stdout",
          "text": [
            "Drive already mounted at /content/drive; to attempt to forcibly remount, call drive.mount(\"/content/drive\", force_remount=True).\n"
          ]
        }
      ],
      "source": [
        "from google.colab import drive\n",
        "drive.mount('/content/drive')"
      ],
      "id": "RVaWV6jF9BwU"
    },
    {
      "cell_type": "code",
      "execution_count": 3,
      "metadata": {
        "colab": {
          "base_uri": "https://localhost:8080/"
        },
        "id": "q5gPGSYO9fwD",
        "outputId": "1e9ed0af-0209-446e-d2d9-629428ada140"
      },
      "outputs": [
        {
          "output_type": "stream",
          "name": "stdout",
          "text": [
            "/content/drive/My Drive/vk_intern\n"
          ]
        }
      ],
      "source": [
        "cd drive/My Drive/vk_intern/"
      ],
      "id": "q5gPGSYO9fwD"
    },
    {
      "cell_type": "code",
      "execution_count": 4,
      "metadata": {
        "colab": {
          "base_uri": "https://localhost:8080/",
          "height": 35
        },
        "id": "OteVAM_N-fEC",
        "outputId": "3798cf6a-22e8-4556-e4a1-b430022e2d9d"
      },
      "outputs": [
        {
          "output_type": "execute_result",
          "data": {
            "text/plain": [
              "'/content/drive/My Drive/vk_intern'"
            ],
            "application/vnd.google.colaboratory.intrinsic+json": {
              "type": "string"
            }
          },
          "metadata": {},
          "execution_count": 4
        }
      ],
      "source": [
        "pwd"
      ],
      "id": "OteVAM_N-fEC"
    },
    {
      "cell_type": "code",
      "execution_count": 6,
      "metadata": {
        "id": "b1a45a4b"
      },
      "outputs": [],
      "source": [
        "# df_movies = pd.read_csv('movie.csv')\n",
        "# df_ratings = pd.read_csv('rating.csv')\n",
        "# df_tag = pd.read_csv('genome_scores.csv')"
      ],
      "id": "b1a45a4b"
    },
    {
      "cell_type": "code",
      "source": [
        "def filter_data():\n",
        "    df_rating = pd.read_csv('rating.csv')\n",
        "    df_tag = pd.read_csv('genome_scores.csv')\n",
        "    n_users = int(len(df_rating.userId.unique()) * 0.1)\n",
        "    print(f'Initial dataset size: {df_rating.shape[0]} ratings')\n",
        "\n",
        "    grouped = df_rating.groupby(['movieId'])\n",
        "    n_movies = grouped.size()\n",
        "    index_names = n_movies[n_movies > n_users].index\n",
        "\n",
        "    filtered_df_rating = df_rating[df_rating['movieId'].isin(index_names)]\n",
        "    filtered_df_tag = df_tag[df_tag['movieId'].isin(index_names)]\n",
        "    print(f'Filtered dataset size: {filtered_df_rating.shape[0]} ratings')\n",
        "    print(\n",
        "        f'Reduced dataset size on {np.round((df_rating.shape[0] - filtered_df_rating.shape[0]) / df_rating.shape[0], 2) * 100}%')\n",
        "\n",
        "    filtered_df_rating.to_csv('train_rating.csv', index=False)\n",
        "    filtered_df_tag.to_csv('filtered_tag.csv', index=False)\n",
        "\n",
        "    return filtered_df_rating, filtered_df_tag"
      ],
      "metadata": {
        "id": "I7asnxpgil5N"
      },
      "id": "I7asnxpgil5N",
      "execution_count": 21,
      "outputs": []
    },
    {
      "cell_type": "code",
      "source": [
        "filtered_df_rating, filtered_df_tag = filter_data()"
      ],
      "metadata": {
        "colab": {
          "base_uri": "https://localhost:8080/"
        },
        "id": "ce2kFdr1nj5g",
        "outputId": "0d2ddd2b-6613-492a-a158-3d70356193d6"
      },
      "id": "ce2kFdr1nj5g",
      "execution_count": 22,
      "outputs": [
        {
          "output_type": "stream",
          "name": "stdout",
          "text": [
            "Initial dataset size: 20000263 ratings\n",
            "Filtered dataset size: 7078836 ratings\n",
            "Reduced dataset size on 65.0%\n"
          ]
        }
      ]
    },
    {
      "cell_type": "code",
      "source": [
        "MIN_TEST_SIZE = 0.18\n",
        "MAX_TEST_SIZE = 0.35\n",
        "TARGET_TEST_SIZE = 0.3\n",
        "SAMPLE_SIZE = 5000\n",
        "\n",
        "def get_user_timestamp_threshold():\n",
        "    \"\"\" 1. Picks a sample_size of unique ids of users.\n",
        "        2. Sorts timestamps of chosen users in ascending order.\n",
        "        3. Takes the the percentile timestamp.\n",
        "        4. Returns the median of computed timestamp percentiles.\n",
        "    \"\"\"\n",
        "    df = pd.read_csv('train_rating.csv')\n",
        "    user_id = np.unique(df[\"userId\"].to_numpy())\n",
        "    user_id_sample = random.sample(list(user_id), SAMPLE_SIZE)\n",
        "    thirty_percentile_timestamp = []\n",
        "\n",
        "    for user in user_id_sample:\n",
        "        user_timestamp = df.loc[df[\"userId\"] == user, \"timestamp\"]\n",
        "        sorted_timestamp = user_timestamp.sort_values(ascending=False).to_numpy()\n",
        "        current_percentile = sorted_timestamp[int(len(sorted_timestamp) * TARGET_TEST_SIZE)]\n",
        "        thirty_percentile_timestamp.append(current_percentile)\n",
        "\n",
        "    sorted_percentile_timestamp = pd.Series(thirty_percentile_timestamp).sort_values(ascending=False)\n",
        "    optimal_split_value = int(SAMPLE_SIZE * 0.7)\n",
        "    return sorted_percentile_timestamp.to_numpy()[optimal_split_value]"
      ],
      "metadata": {
        "id": "fplW8y5kk7Vi"
      },
      "id": "fplW8y5kk7Vi",
      "execution_count": 23,
      "outputs": []
    },
    {
      "cell_type": "code",
      "source": [
        "def split_data():\n",
        "    for _ in range(5):\n",
        "        threshold_timestamp = get_user_timestamp_threshold()\n",
        "        df = pd.read_csv('train_rating.csv')\n",
        "        train_df = df[df[\"timestamp\"] > threshold_timestamp]\n",
        "        test_df = df[df[\"timestamp\"] <= threshold_timestamp]\n",
        "        test_size = np.round(test_df.shape[0] / df.shape[0], 2)\n",
        "        print(f'Found a split with test size: ~{test_size}')\n",
        "        if MIN_TEST_SIZE < test_size < MAX_TEST_SIZE:\n",
        "            print(f'Seems good enough, will save!')\n",
        "            return train_df, test_df"
      ],
      "metadata": {
        "id": "BZUMva2Sil_1"
      },
      "id": "BZUMva2Sil_1",
      "execution_count": 24,
      "outputs": []
    },
    {
      "cell_type": "code",
      "source": [
        "train_df, test_df = split_data()"
      ],
      "metadata": {
        "colab": {
          "base_uri": "https://localhost:8080/"
        },
        "id": "k39tUzgZjGxS",
        "outputId": "e63880fd-a4ed-4356-be0d-8b9868e02a60"
      },
      "id": "k39tUzgZjGxS",
      "execution_count": 25,
      "outputs": [
        {
          "output_type": "stream",
          "name": "stdout",
          "text": [
            "Found a split with test size: ~0.22\n",
            "Seems good enough, will save!\n"
          ]
        }
      ]
    },
    {
      "cell_type": "code",
      "source": [
        "train_df.to_csv(\"train_rating.csv\", index=False)"
      ],
      "metadata": {
        "id": "uxbyPmXynddE"
      },
      "id": "uxbyPmXynddE",
      "execution_count": 26,
      "outputs": []
    },
    {
      "cell_type": "code",
      "source": [
        "train_df, val_df = split_data()"
      ],
      "metadata": {
        "colab": {
          "base_uri": "https://localhost:8080/"
        },
        "id": "GI0viEHnYifa",
        "outputId": "17b4e302-84cd-4de8-acb8-d509f3a52b2f"
      },
      "id": "GI0viEHnYifa",
      "execution_count": 27,
      "outputs": [
        {
          "output_type": "stream",
          "name": "stdout",
          "text": [
            "Found a split with test size: ~0.28\n",
            "Seems good enough, will save!\n"
          ]
        }
      ]
    },
    {
      "cell_type": "code",
      "source": [
        "train_df.to_csv(\"train_rating.csv\", index=False)\n",
        "val_df.to_csv(\"val_rating.csv\", index=False)\n",
        "test_df.to_csv(\"test_rating.csv\", index=False)"
      ],
      "metadata": {
        "id": "a8MQAbTk4aqj"
      },
      "id": "a8MQAbTk4aqj",
      "execution_count": 28,
      "outputs": []
    },
    {
      "cell_type": "code",
      "source": [
        "MIN_RATING = 4\n",
        "K = 25\n",
        "SEED = 42\n",
        "\n",
        "def compute_precision(predictions, validation_dataset_path: str, movie_filtered_ids, user_filtered_ids, users,\n",
        "                      nested_pred=True) -> float:\n",
        "    inverse_encoding_us = dict(zip(user_filtered_ids.values(), user_filtered_ids.keys()))\n",
        "    inverse_encoding_mv = dict(zip(movie_filtered_ids.values(), movie_filtered_ids.keys()))\n",
        "\n",
        "    df = pd.read_csv(validation_dataset_path)\n",
        "    precision = []\n",
        "\n",
        "    for i, user in enumerate(users):\n",
        "        y_pred = predictions[i]\n",
        "        movies_of_user = df[df[\"userId\"] == inverse_encoding_us[user]]\n",
        "\n",
        "        relevant_movies = movies_of_user['rating'] >= MIN_RATING\n",
        "        relevant_movies = movies_of_user[relevant_movies][\"movieId\"].tolist()\n",
        "\n",
        "        irrelevant_movies = movies_of_user[\"rating\"] < MIN_RATING\n",
        "        irrelevant_movies = movies_of_user[irrelevant_movies][\"movieId\"].tolist()\n",
        "\n",
        "        true_positive, false_positive = 0, 0\n",
        "\n",
        "        for movie in y_pred:\n",
        "            if nested_pred:\n",
        "                movie = movie[0]\n",
        "            movie_id = inverse_encoding_mv[movie]\n",
        "            if movie_id in relevant_movies:\n",
        "                true_positive += 1\n",
        "            elif movie_id in irrelevant_movies:\n",
        "                false_positive += 1\n",
        "\n",
        "        if true_positive > 0 or false_positive > 0:\n",
        "            precision.append(true_positive / (true_positive + false_positive))\n",
        "\n",
        "    print(f'Evaluated on {len(precision)} users')\n",
        "\n",
        "    return np.mean(precision)"
      ],
      "metadata": {
        "id": "aNEgPwneimDz"
      },
      "id": "aNEgPwneimDz",
      "execution_count": 29,
      "outputs": []
    },
    {
      "cell_type": "code",
      "source": [
        "!pip install lightfm\n",
        "from scipy import sparse\n",
        "from typing import Tuple\n",
        "from lightfm.data import Dataset"
      ],
      "metadata": {
        "colab": {
          "base_uri": "https://localhost:8080/"
        },
        "id": "JiDyN8Axydlf",
        "outputId": "15008133-198e-410d-9437-fd521ab76bc6"
      },
      "id": "JiDyN8Axydlf",
      "execution_count": 30,
      "outputs": [
        {
          "output_type": "stream",
          "name": "stdout",
          "text": [
            "Requirement already satisfied: lightfm in /usr/local/lib/python3.7/dist-packages (1.16)\n",
            "Requirement already satisfied: requests in /usr/local/lib/python3.7/dist-packages (from lightfm) (2.23.0)\n",
            "Requirement already satisfied: scikit-learn in /usr/local/lib/python3.7/dist-packages (from lightfm) (1.0.2)\n",
            "Requirement already satisfied: scipy>=0.17.0 in /usr/local/lib/python3.7/dist-packages (from lightfm) (1.4.1)\n",
            "Requirement already satisfied: numpy in /usr/local/lib/python3.7/dist-packages (from lightfm) (1.21.5)\n",
            "Requirement already satisfied: idna<3,>=2.5 in /usr/local/lib/python3.7/dist-packages (from requests->lightfm) (2.10)\n",
            "Requirement already satisfied: certifi>=2017.4.17 in /usr/local/lib/python3.7/dist-packages (from requests->lightfm) (2021.10.8)\n",
            "Requirement already satisfied: urllib3!=1.25.0,!=1.25.1,<1.26,>=1.21.1 in /usr/local/lib/python3.7/dist-packages (from requests->lightfm) (1.24.3)\n",
            "Requirement already satisfied: chardet<4,>=3.0.2 in /usr/local/lib/python3.7/dist-packages (from requests->lightfm) (3.0.4)\n",
            "Requirement already satisfied: threadpoolctl>=2.0.0 in /usr/local/lib/python3.7/dist-packages (from scikit-learn->lightfm) (3.1.0)\n",
            "Requirement already satisfied: joblib>=0.11 in /usr/local/lib/python3.7/dist-packages (from scikit-learn->lightfm) (1.1.0)\n"
          ]
        }
      ]
    },
    {
      "cell_type": "code",
      "source": [
        "def mask_movies(matrix):\n",
        "    \"\"\" Converts all ratings bellow min_rating into -1 (disliked by user),\n",
        "        all ratings above min_rating into 1 (liked by user)\n",
        "    \"\"\"\n",
        "    matrix = matrix.tocsr()\n",
        "    irrelevant_movies_mask = np.array(matrix[matrix.nonzero()] < MIN_RATING)[0]\n",
        "    matrix[matrix.nonzero()[0][irrelevant_movies_mask], matrix.nonzero()[1][irrelevant_movies_mask]] = -1\n",
        "    matrix[matrix > 0] = 1\n",
        "    return matrix.tocoo()\n",
        "\n",
        "\n",
        "def make_dataset(rating_dataset_path, tag_dataset_path):\n",
        "\n",
        "    df_rating = pd.read_csv(rating_dataset_path)\n",
        "    df_tag = pd.read_csv(tag_dataset_path)\n",
        "\n",
        "    dataset = Dataset()\n",
        "    dataset.fit(df_rating[\"userId\"].unique(),\n",
        "                df_rating[\"movieId\"].unique(),\n",
        "                item_features=df_tag[\"tagId\"].unique())\n",
        "\n",
        "    _, weights = dataset.build_interactions(\n",
        "        [tuple(row) for row in df_rating.drop([\"timestamp\"], axis=1).values]\n",
        "    )\n",
        "    user_item_interaction = mask_movies(weights)\n",
        "    item_features = dataset.build_item_features([(row[0], {row[1]: row[2]}) for row in df_tag.values])\n",
        "\n",
        "    return user_item_interaction, item_features, dataset"
      ],
      "metadata": {
        "id": "SE6qH6BHtuli"
      },
      "id": "SE6qH6BHtuli",
      "execution_count": 31,
      "outputs": []
    },
    {
      "cell_type": "code",
      "source": [
        "from lightfm import LightFM"
      ],
      "metadata": {
        "id": "74Tt1clazZb7"
      },
      "id": "74Tt1clazZb7",
      "execution_count": 32,
      "outputs": []
    },
    {
      "cell_type": "code",
      "source": [
        "class ModelLightFM:\n",
        "    def __init__(self):\n",
        "        self.train_rating_path = 'train_rating.csv'\n",
        "        self.val_rating_path = 'val_rating.csv'\n",
        "        self.tag_csv_path = 'filtered_tag.csv'\n",
        "        self.predictions = None\n",
        "        self.unique_movies = None\n",
        "        self.users_to_predict = None\n",
        "        self.mapping_user_ids = None\n",
        "        self.mapping_item_ids = None\n",
        "\n",
        "    def fit(self, latent_size: int, learning_rate: float, item_alpha: float, epochs: int) -> LightFM:\n",
        "\n",
        "        model = LightFM(no_components=latent_size,\n",
        "                        learning_schedule=\"adagrad\",\n",
        "                        loss=\"warp\",\n",
        "                        # loss=\"logistic\",\n",
        "                        learning_rate=learning_rate,\n",
        "                        item_alpha=item_alpha,\n",
        "                        random_state=SEED)\n",
        "\n",
        "        interactions, item_features, dataset = make_dataset(self.train_rating_path, self.tag_csv_path)\n",
        "        self.mapping_user_ids, _, self.mapping_item_ids, _ = dataset.mapping()\n",
        "        print('Dataset is built! Start fitting the model...')\n",
        "        model.fit(interactions, item_features=item_features, epochs=epochs, verbose=True)\n",
        "        return model\n",
        "\n",
        "    def predict(self, latent_size: int, learning_rate: float, item_alpha: float, epochs: int):\n",
        "        model = self.fit(latent_size, learning_rate, item_alpha, epochs)\n",
        "\n",
        "        self.unique_movies = self.mapping_item_ids.values()\n",
        "        unique_user_keys = self.mapping_user_ids.keys()\n",
        "\n",
        "        df = pd.read_csv(self.val_rating_path)\n",
        "        val_users = df[\"userId\"].unique()\n",
        "\n",
        "        self.users_to_predict = [self.mapping_user_ids[user] for user in val_users if user in unique_user_keys]\n",
        "        print(f'Model is fitted, start making predictions!')\n",
        "        self.predictions = []\n",
        "\n",
        "        for i, user in enumerate(self.users_to_predict):\n",
        "            print(f'\\rPredicted top@{K} movies for {i+1}/{len(self.users_to_predict)} users...', end=\"\")\n",
        "            input_user_id = np.array([user for _ in range(len(self.unique_movies))], dtype=np.int32)\n",
        "            scores = model.predict(input_user_id, np.array(list(self.unique_movies), dtype=np.int32))\n",
        "            movie_scores = dict(zip(self.unique_movies, scores))\n",
        "            sorted_movie_scores = {k: v for k, v in sorted(movie_scores.items(), key=lambda item: item[1], reverse=True)}\n",
        "            self.predictions.append(list(sorted_movie_scores.keys())[:K])\n",
        "        print(f'\\n Predictions are saved! Let me compute precision@{K}.')\n",
        "        return self.predictions, self.users_to_predict, self.mapping_user_ids, self.mapping_item_ids\n",
        "\n",
        "    def get_metric(self) -> float:\n",
        "        precision = compute_precision(self.predictions, self.val_rating_path, self.mapping_item_ids,\n",
        "                                      self.mapping_user_ids, self.users_to_predict, nested_pred=False)\n",
        "        return precision"
      ],
      "metadata": {
        "id": "1oBcX_totuqL"
      },
      "id": "1oBcX_totuqL",
      "execution_count": 33,
      "outputs": []
    },
    {
      "cell_type": "code",
      "source": [
        "latent_size = 10\n",
        "learning_rate = 0.01\n",
        "item_alpha = 0\n",
        "epochs = 2\n",
        "\n",
        "\n",
        "lightfm = ModelLightFM()\n",
        "print(f'\\n Latent_size: {latent_size}\\n Learning rate: {learning_rate}\\n Item alpha: {item_alpha}\\n '\n",
        "          f'Epochs: {epochs}')\n",
        "lightfm.predict(latent_size, learning_rate, item_alpha, epochs)\n",
        "precision = lightfm.get_metric()\n",
        "print(f'Precision@{K}:{precision}')"
      ],
      "metadata": {
        "colab": {
          "base_uri": "https://localhost:8080/"
        },
        "id": "jYdyN91Mtut5",
        "outputId": "f30fda42-944a-406e-c00c-b88412f9a3f7"
      },
      "id": "jYdyN91Mtut5",
      "execution_count": 34,
      "outputs": [
        {
          "output_type": "stream",
          "name": "stdout",
          "text": [
            "\n",
            " Latent_size: 10\n",
            " Learning rate: 0.01\n",
            " Item alpha: 0\n",
            " Epochs: 2\n",
            "Dataset is built! Start fitting the model...\n"
          ]
        },
        {
          "output_type": "stream",
          "name": "stderr",
          "text": [
            "Epoch: 100%|██████████| 2/2 [19:29<00:00, 584.83s/it]\n"
          ]
        },
        {
          "output_type": "stream",
          "name": "stdout",
          "text": [
            "Model is fitted, start making predictions!\n",
            "Predicted top@25 movies for 3934/3934 users...\n",
            " Predictions are saved! Let me compute precision@25.\n",
            "Evaluated on 3769 users\n",
            "Precision@25:0.7698487929082714\n"
          ]
        }
      ]
    },
    {
      "cell_type": "code",
      "source": [
        ""
      ],
      "metadata": {
        "id": "j5QvYjP4FQOI"
      },
      "id": "j5QvYjP4FQOI",
      "execution_count": null,
      "outputs": []
    },
    {
      "cell_type": "code",
      "source": [
        ""
      ],
      "metadata": {
        "id": "hgw5TrEEggkS"
      },
      "id": "hgw5TrEEggkS",
      "execution_count": 34,
      "outputs": []
    },
    {
      "cell_type": "markdown",
      "source": [
        "ALS"
      ],
      "metadata": {
        "id": "r2bSH-BTzu5w"
      },
      "id": "r2bSH-BTzu5w"
    },
    {
      "cell_type": "code",
      "source": [
        "import plotly.graph_objects as go\n",
        "def plot(loss, iterations):\n",
        "    x = np.arange(len(loss))\n",
        "    fig = go.Figure(data=go.Scatter(x=x, y=loss))\n",
        "    fig.update_layout(title=f'Loss convergence: {iterations} iterations',\n",
        "                      xaxis_title='Iteration',\n",
        "                      yaxis_title='Loss')\n",
        "    fig.show()"
      ],
      "metadata": {
        "id": "rOfM-JTY0oke"
      },
      "id": "rOfM-JTY0oke",
      "execution_count": 53,
      "outputs": []
    },
    {
      "cell_type": "code",
      "source": [
        "!pip install implicit"
      ],
      "metadata": {
        "colab": {
          "base_uri": "https://localhost:8080/"
        },
        "id": "oJhmA1A-0z--",
        "outputId": "7bf85c01-0976-47df-85ac-663d50245db6"
      },
      "id": "oJhmA1A-0z--",
      "execution_count": 36,
      "outputs": [
        {
          "output_type": "stream",
          "name": "stdout",
          "text": [
            "Requirement already satisfied: implicit in /usr/local/lib/python3.7/dist-packages (0.5.2)\n",
            "Requirement already satisfied: tqdm>=4.27 in /usr/local/lib/python3.7/dist-packages (from implicit) (4.63.0)\n",
            "Requirement already satisfied: numpy in /usr/local/lib/python3.7/dist-packages (from implicit) (1.21.5)\n",
            "Requirement already satisfied: scipy>=0.16 in /usr/local/lib/python3.7/dist-packages (from implicit) (1.4.1)\n"
          ]
        }
      ]
    },
    {
      "cell_type": "code",
      "source": [
        "import implicit"
      ],
      "metadata": {
        "colab": {
          "base_uri": "https://localhost:8080/"
        },
        "id": "U2kf-Z5f0yAD",
        "outputId": "02d90442-010a-49f4-a83a-275e69ada38d"
      },
      "id": "U2kf-Z5f0yAD",
      "execution_count": 37,
      "outputs": [
        {
          "output_type": "stream",
          "name": "stderr",
          "text": [
            "/usr/local/lib/python3.7/dist-packages/implicit/gpu/__init__.py:14: UserWarning: CUDA extension is built, but disabling GPU support because of 'Cuda Error: no CUDA-capable device is detected (/project/./implicit/gpu/utils.h:71)'\n",
            "  f\"CUDA extension is built, but disabling GPU support because of '{e}'\",\n"
          ]
        }
      ]
    },
    {
      "cell_type": "code",
      "source": [
        "loss_story = []"
      ],
      "metadata": {
        "id": "tBfcq7xDcvrs"
      },
      "id": "tBfcq7xDcvrs",
      "execution_count": 38,
      "outputs": []
    },
    {
      "cell_type": "code",
      "source": [
        "\n",
        "def store_loss(iteration, elapsed, loss):\n",
        "    loss_story.append(loss)\n",
        "\n",
        "class ALS:\n",
        "    def __init__(self):\n",
        "        self.sparse_item_user = None\n",
        "        self.sparse_user_item = None\n",
        "        self.predictions_encoded = None\n",
        "        self.irrelevant_movies = None\n",
        "        self.relevant_users = None\n",
        "        self.predictions = None\n",
        "\n",
        "    @staticmethod\n",
        "    def read_dataset(data_path: str) -> Tuple[pd.Series, pd.Series, pd.Series]:\n",
        "        df = pd.read_csv(data_path)\n",
        "        movies = df[\"movieId\"]\n",
        "        users = df[\"userId\"]\n",
        "        rating = df[\"rating\"]\n",
        "        return movies, users, rating\n",
        "\n",
        "    def _get_data_encoded(self, data_path: str) -> None:\n",
        "        df = pd.read_csv(data_path)\n",
        "        users, movies = df[\"userId\"], df[\"movieId\"]\n",
        "        # dict with keys: original movie / user id and values: relevant movie/user id from range 0...len(unique()))\n",
        "        self.movie_filtered_ids = dict(zip(movies.unique(), range(len(movies.unique()))))\n",
        "        self.user_filtered_ids = dict(zip(users.unique(), range(len(users.unique()))))\n",
        "\n",
        "    def _get_sparse_matrix(self, data_path: str) -> Tuple[sparse.csr_matrix, sparse.csr_matrix]:\n",
        "        movies, users, rating = self.read_dataset(data_path)\n",
        "        n_movies, n_users = len(movies.unique()), len(users.unique())\n",
        "\n",
        "        rating.where(rating < MIN_RATING, 0, inplace=True)\n",
        "        rating.where(rating >= MIN_RATING, 1, inplace=True)\n",
        "\n",
        "        movie_encoded_idx = [self.movie_filtered_ids[movie] for movie in movies]\n",
        "        user_encoded_idx = [self.user_filtered_ids[user] for user in users]\n",
        "\n",
        "        self.sparse_item_user = sparse.csr_matrix((rating, (movie_encoded_idx, user_encoded_idx)),\n",
        "                                                  shape=(n_movies, n_users))\n",
        "        self.sparse_user_item = sparse.csr_matrix((rating, (user_encoded_idx, movie_encoded_idx)),\n",
        "                                                  shape=(n_users, n_movies))\n",
        "        return self.sparse_item_user, self.sparse_user_item\n",
        "\n",
        "    def train(self, latent_dim: int, regularization: float, iterations: int, alpha: float, train_loss: bool,\n",
        "              train_dataset_path: str):\n",
        "\n",
        "        self._get_data_encoded(train_dataset_path)\n",
        "\n",
        "        self.sparse_item_user, self.sparse_user_item = self._get_sparse_matrix(train_dataset_path)\n",
        "\n",
        "        model = implicit.als.AlternatingLeastSquares(factors=latent_dim,\n",
        "                                                     regularization=regularization,\n",
        "                                                     iterations=iterations,\n",
        "                                                     calculate_training_loss=train_loss,\n",
        "                                                     random_state=SEED)\n",
        "\n",
        "\n",
        "        matrix = (self.sparse_item_user * alpha).tocsr().astype(float)\n",
        "        matrix.data += 1.\n",
        "        model.fit_callback = store_loss\n",
        "        model.fit(matrix)\n",
        "\n",
        "        return model\n",
        "    \n",
        "\n",
        "    def filter_users_for_validation(self, validation_dataset_path: str) -> None:\n",
        "        movies, users, rating = self.read_dataset(validation_dataset_path)\n",
        "\n",
        "        unique_movies = movies.unique()\n",
        "        unique_users = users.unique()\n",
        "\n",
        "        unique_movie_keys = self.movie_filtered_ids.keys()\n",
        "        unique_user_keys = self.user_filtered_ids.keys()\n",
        "\n",
        "        self.irrelevant_movies = [movie for movie in unique_movie_keys if self.movie_filtered_ids[movie] not in unique_movies]\n",
        "        self.relevant_users = [self.user_filtered_ids[user] for user in unique_users if user in unique_user_keys]\n",
        "\n",
        "    def get_encoded_predictions(self, model, val_dataset_path):\n",
        "        self.filter_users_for_validation(val_dataset_path)\n",
        "        self.predictions = []\n",
        "        for user in self.relevant_users:\n",
        "            top_k_movies = self.predict(model, user)\n",
        "            self.predictions.append(top_k_movies)\n",
        "        return self.predictions\n",
        "\n",
        "    def predict(self, model, user: int) -> np.ndarray:\n",
        "        top_k_movies = model.recommend(user,\n",
        "                                       self.sparse_user_item.tocsr().astype(float),\n",
        "                                       N=25,\n",
        "                                       filter_already_liked_items=False,\n",
        "                                       filter_items=self.irrelevant_movies)\n",
        "        return top_k_movies\n",
        "\n",
        "    def get_metric(self, validation_dataset_path: str):\n",
        "        precision = compute_precision(self.predictions, validation_dataset_path, self.movie_filtered_ids,\n",
        "                                      self.user_filtered_ids, self.relevant_users)\n",
        "        return precision\n",
        "\n",
        "    def test(self, model):\n",
        "        predictions = self.get_encoded_predictions(model, 'test_rating.csv')\n",
        "        precision = self.get_metric('test_rating.csv')\n",
        "        return predictions, self.relevant_users, self.movie_filtered_ids, self.user_filtered_ids, precision"
      ],
      "metadata": {
        "id": "PIkpAOcNb0Ja"
      },
      "id": "PIkpAOcNb0Ja",
      "execution_count": 39,
      "outputs": []
    },
    {
      "cell_type": "code",
      "source": [
        "factors = 20\n",
        "iterations = 30\n",
        "alpha = 40\n",
        "regularization = 0.1\n",
        "train_loss = True\n",
        "train_dataset_path = 'train_rating.csv'\n",
        "val_dataset_path = 'val_rating.csv'\n",
        "eval_mode = True\n",
        "loss_story = []\n",
        "\n",
        "als = ALS()\n",
        "\n",
        "print(f'\\n Factors: {factors}\\n Iterations: {iterations}\\n Alpha: {alpha}\\n '\n",
        "          f'Regularization: {regularization}')\n",
        "model = als.train(factors, \n",
        "                  regularization,\n",
        "                  iterations,\n",
        "                  alpha,\n",
        "                  train_loss,\n",
        "                  train_dataset_path)\n"
      ],
      "metadata": {
        "colab": {
          "base_uri": "https://localhost:8080/",
          "height": 171,
          "referenced_widgets": [
            "d0dbed43087a4b1bb9f868d06b0ea0a9",
            "947f7cf31ae745ed9046b58200c98fc8",
            "ceb466bea7254357b1596ddd592c2cc3",
            "19f2d59fb1d940e9bc92a8ad01271980",
            "4a5b406b64464136b12035d2ad157b11",
            "e10382290c0c47548259b805506f403c",
            "70576c8f908c41bfb60485349992fbe7",
            "e80b4fa1ad3442479329caddf2f0d82a",
            "4ecae6d801c64e789110de1d63216c1d",
            "c9b02b893f524b4eba735f9fb82d8fba",
            "794094fc5cef44c18dad68a59cf77092"
          ]
        },
        "id": "JeAXpfCwVNIR",
        "outputId": "f2491909-1499-405a-b64e-29970407e510"
      },
      "id": "JeAXpfCwVNIR",
      "execution_count": 40,
      "outputs": [
        {
          "output_type": "stream",
          "name": "stdout",
          "text": [
            "\n",
            " Factors: 20\n",
            " Iterations: 30\n",
            " Alpha: 40\n",
            " Regularization: 0.1\n"
          ]
        },
        {
          "output_type": "stream",
          "name": "stderr",
          "text": [
            "/usr/local/lib/python3.7/dist-packages/implicit/utils.py:27: UserWarning: OpenBLAS detected. Its highly recommend to set the environment variable 'export OPENBLAS_NUM_THREADS=1' to disable its internal multithreading\n",
            "  \"OpenBLAS detected. Its highly recommend to set the environment variable \"\n"
          ]
        },
        {
          "output_type": "display_data",
          "data": {
            "text/plain": [
              "  0%|          | 0/30 [00:00<?, ?it/s]"
            ],
            "application/vnd.jupyter.widget-view+json": {
              "version_major": 2,
              "version_minor": 0,
              "model_id": "d0dbed43087a4b1bb9f868d06b0ea0a9"
            }
          },
          "metadata": {}
        }
      ]
    },
    {
      "cell_type": "code",
      "source": [
        "plot(loss_story, iterations)"
      ],
      "metadata": {
        "colab": {
          "base_uri": "https://localhost:8080/",
          "height": 542
        },
        "id": "bJQEBvaJUhIe",
        "outputId": "e0911484-ecb1-4a72-b7b9-338a5257f976"
      },
      "id": "bJQEBvaJUhIe",
      "execution_count": 54,
      "outputs": [
        {
          "output_type": "display_data",
          "data": {
            "text/html": [
              "<html>\n",
              "<head><meta charset=\"utf-8\" /></head>\n",
              "<body>\n",
              "    <div>            <script src=\"https://cdnjs.cloudflare.com/ajax/libs/mathjax/2.7.5/MathJax.js?config=TeX-AMS-MML_SVG\"></script><script type=\"text/javascript\">if (window.MathJax) {MathJax.Hub.Config({SVG: {font: \"STIX-Web\"}});}</script>                <script type=\"text/javascript\">window.PlotlyConfig = {MathJaxConfig: 'local'};</script>\n",
              "        <script src=\"https://cdn.plot.ly/plotly-2.8.3.min.js\"></script>                <div id=\"3df2f1f7-a36d-4038-996a-4c166a977ee9\" class=\"plotly-graph-div\" style=\"height:525px; width:100%;\"></div>            <script type=\"text/javascript\">                                    window.PLOTLYENV=window.PLOTLYENV || {};                                    if (document.getElementById(\"3df2f1f7-a36d-4038-996a-4c166a977ee9\")) {                    Plotly.newPlot(                        \"3df2f1f7-a36d-4038-996a-4c166a977ee9\",                        [{\"x\":[0,1,2,3,4,5,6,7,8,9,10,11,12,13,14,15,16,17,18,19,20,21,22,23,24,25,26,27,28,29],\"y\":[0.053620855486449966,0.04313118575434951,0.04061801860399479,0.03940989979411297,0.038716982330797046,0.03828246195639787,0.03799686171722769,0.037804390938091396,0.037671493060886053,0.037574859966925805,0.03750431910653988,0.03744923483943978,0.037405855280763275,0.03737053544038895,0.03734063953079953,0.03731556769333091,0.0372930335480562,0.03727276111427351,0.03725509323091064,0.03723881530043415,0.0372243845777772,0.037210909109712365,0.03719825145865451,0.03718745030602826,0.03717734903411071,0.037167895133055344,0.037158963796846994,0.03715071255623219,0.03714345437768958,0.037136271232530466],\"type\":\"scatter\"}],                        {\"template\":{\"data\":{\"bar\":[{\"error_x\":{\"color\":\"#2a3f5f\"},\"error_y\":{\"color\":\"#2a3f5f\"},\"marker\":{\"line\":{\"color\":\"#E5ECF6\",\"width\":0.5},\"pattern\":{\"fillmode\":\"overlay\",\"size\":10,\"solidity\":0.2}},\"type\":\"bar\"}],\"barpolar\":[{\"marker\":{\"line\":{\"color\":\"#E5ECF6\",\"width\":0.5},\"pattern\":{\"fillmode\":\"overlay\",\"size\":10,\"solidity\":0.2}},\"type\":\"barpolar\"}],\"carpet\":[{\"aaxis\":{\"endlinecolor\":\"#2a3f5f\",\"gridcolor\":\"white\",\"linecolor\":\"white\",\"minorgridcolor\":\"white\",\"startlinecolor\":\"#2a3f5f\"},\"baxis\":{\"endlinecolor\":\"#2a3f5f\",\"gridcolor\":\"white\",\"linecolor\":\"white\",\"minorgridcolor\":\"white\",\"startlinecolor\":\"#2a3f5f\"},\"type\":\"carpet\"}],\"choropleth\":[{\"colorbar\":{\"outlinewidth\":0,\"ticks\":\"\"},\"type\":\"choropleth\"}],\"contour\":[{\"colorbar\":{\"outlinewidth\":0,\"ticks\":\"\"},\"colorscale\":[[0.0,\"#0d0887\"],[0.1111111111111111,\"#46039f\"],[0.2222222222222222,\"#7201a8\"],[0.3333333333333333,\"#9c179e\"],[0.4444444444444444,\"#bd3786\"],[0.5555555555555556,\"#d8576b\"],[0.6666666666666666,\"#ed7953\"],[0.7777777777777778,\"#fb9f3a\"],[0.8888888888888888,\"#fdca26\"],[1.0,\"#f0f921\"]],\"type\":\"contour\"}],\"contourcarpet\":[{\"colorbar\":{\"outlinewidth\":0,\"ticks\":\"\"},\"type\":\"contourcarpet\"}],\"heatmap\":[{\"colorbar\":{\"outlinewidth\":0,\"ticks\":\"\"},\"colorscale\":[[0.0,\"#0d0887\"],[0.1111111111111111,\"#46039f\"],[0.2222222222222222,\"#7201a8\"],[0.3333333333333333,\"#9c179e\"],[0.4444444444444444,\"#bd3786\"],[0.5555555555555556,\"#d8576b\"],[0.6666666666666666,\"#ed7953\"],[0.7777777777777778,\"#fb9f3a\"],[0.8888888888888888,\"#fdca26\"],[1.0,\"#f0f921\"]],\"type\":\"heatmap\"}],\"heatmapgl\":[{\"colorbar\":{\"outlinewidth\":0,\"ticks\":\"\"},\"colorscale\":[[0.0,\"#0d0887\"],[0.1111111111111111,\"#46039f\"],[0.2222222222222222,\"#7201a8\"],[0.3333333333333333,\"#9c179e\"],[0.4444444444444444,\"#bd3786\"],[0.5555555555555556,\"#d8576b\"],[0.6666666666666666,\"#ed7953\"],[0.7777777777777778,\"#fb9f3a\"],[0.8888888888888888,\"#fdca26\"],[1.0,\"#f0f921\"]],\"type\":\"heatmapgl\"}],\"histogram\":[{\"marker\":{\"pattern\":{\"fillmode\":\"overlay\",\"size\":10,\"solidity\":0.2}},\"type\":\"histogram\"}],\"histogram2d\":[{\"colorbar\":{\"outlinewidth\":0,\"ticks\":\"\"},\"colorscale\":[[0.0,\"#0d0887\"],[0.1111111111111111,\"#46039f\"],[0.2222222222222222,\"#7201a8\"],[0.3333333333333333,\"#9c179e\"],[0.4444444444444444,\"#bd3786\"],[0.5555555555555556,\"#d8576b\"],[0.6666666666666666,\"#ed7953\"],[0.7777777777777778,\"#fb9f3a\"],[0.8888888888888888,\"#fdca26\"],[1.0,\"#f0f921\"]],\"type\":\"histogram2d\"}],\"histogram2dcontour\":[{\"colorbar\":{\"outlinewidth\":0,\"ticks\":\"\"},\"colorscale\":[[0.0,\"#0d0887\"],[0.1111111111111111,\"#46039f\"],[0.2222222222222222,\"#7201a8\"],[0.3333333333333333,\"#9c179e\"],[0.4444444444444444,\"#bd3786\"],[0.5555555555555556,\"#d8576b\"],[0.6666666666666666,\"#ed7953\"],[0.7777777777777778,\"#fb9f3a\"],[0.8888888888888888,\"#fdca26\"],[1.0,\"#f0f921\"]],\"type\":\"histogram2dcontour\"}],\"mesh3d\":[{\"colorbar\":{\"outlinewidth\":0,\"ticks\":\"\"},\"type\":\"mesh3d\"}],\"parcoords\":[{\"line\":{\"colorbar\":{\"outlinewidth\":0,\"ticks\":\"\"}},\"type\":\"parcoords\"}],\"pie\":[{\"automargin\":true,\"type\":\"pie\"}],\"scatter\":[{\"marker\":{\"colorbar\":{\"outlinewidth\":0,\"ticks\":\"\"}},\"type\":\"scatter\"}],\"scatter3d\":[{\"line\":{\"colorbar\":{\"outlinewidth\":0,\"ticks\":\"\"}},\"marker\":{\"colorbar\":{\"outlinewidth\":0,\"ticks\":\"\"}},\"type\":\"scatter3d\"}],\"scattercarpet\":[{\"marker\":{\"colorbar\":{\"outlinewidth\":0,\"ticks\":\"\"}},\"type\":\"scattercarpet\"}],\"scattergeo\":[{\"marker\":{\"colorbar\":{\"outlinewidth\":0,\"ticks\":\"\"}},\"type\":\"scattergeo\"}],\"scattergl\":[{\"marker\":{\"colorbar\":{\"outlinewidth\":0,\"ticks\":\"\"}},\"type\":\"scattergl\"}],\"scattermapbox\":[{\"marker\":{\"colorbar\":{\"outlinewidth\":0,\"ticks\":\"\"}},\"type\":\"scattermapbox\"}],\"scatterpolar\":[{\"marker\":{\"colorbar\":{\"outlinewidth\":0,\"ticks\":\"\"}},\"type\":\"scatterpolar\"}],\"scatterpolargl\":[{\"marker\":{\"colorbar\":{\"outlinewidth\":0,\"ticks\":\"\"}},\"type\":\"scatterpolargl\"}],\"scatterternary\":[{\"marker\":{\"colorbar\":{\"outlinewidth\":0,\"ticks\":\"\"}},\"type\":\"scatterternary\"}],\"surface\":[{\"colorbar\":{\"outlinewidth\":0,\"ticks\":\"\"},\"colorscale\":[[0.0,\"#0d0887\"],[0.1111111111111111,\"#46039f\"],[0.2222222222222222,\"#7201a8\"],[0.3333333333333333,\"#9c179e\"],[0.4444444444444444,\"#bd3786\"],[0.5555555555555556,\"#d8576b\"],[0.6666666666666666,\"#ed7953\"],[0.7777777777777778,\"#fb9f3a\"],[0.8888888888888888,\"#fdca26\"],[1.0,\"#f0f921\"]],\"type\":\"surface\"}],\"table\":[{\"cells\":{\"fill\":{\"color\":\"#EBF0F8\"},\"line\":{\"color\":\"white\"}},\"header\":{\"fill\":{\"color\":\"#C8D4E3\"},\"line\":{\"color\":\"white\"}},\"type\":\"table\"}]},\"layout\":{\"annotationdefaults\":{\"arrowcolor\":\"#2a3f5f\",\"arrowhead\":0,\"arrowwidth\":1},\"autotypenumbers\":\"strict\",\"coloraxis\":{\"colorbar\":{\"outlinewidth\":0,\"ticks\":\"\"}},\"colorscale\":{\"diverging\":[[0,\"#8e0152\"],[0.1,\"#c51b7d\"],[0.2,\"#de77ae\"],[0.3,\"#f1b6da\"],[0.4,\"#fde0ef\"],[0.5,\"#f7f7f7\"],[0.6,\"#e6f5d0\"],[0.7,\"#b8e186\"],[0.8,\"#7fbc41\"],[0.9,\"#4d9221\"],[1,\"#276419\"]],\"sequential\":[[0.0,\"#0d0887\"],[0.1111111111111111,\"#46039f\"],[0.2222222222222222,\"#7201a8\"],[0.3333333333333333,\"#9c179e\"],[0.4444444444444444,\"#bd3786\"],[0.5555555555555556,\"#d8576b\"],[0.6666666666666666,\"#ed7953\"],[0.7777777777777778,\"#fb9f3a\"],[0.8888888888888888,\"#fdca26\"],[1.0,\"#f0f921\"]],\"sequentialminus\":[[0.0,\"#0d0887\"],[0.1111111111111111,\"#46039f\"],[0.2222222222222222,\"#7201a8\"],[0.3333333333333333,\"#9c179e\"],[0.4444444444444444,\"#bd3786\"],[0.5555555555555556,\"#d8576b\"],[0.6666666666666666,\"#ed7953\"],[0.7777777777777778,\"#fb9f3a\"],[0.8888888888888888,\"#fdca26\"],[1.0,\"#f0f921\"]]},\"colorway\":[\"#636efa\",\"#EF553B\",\"#00cc96\",\"#ab63fa\",\"#FFA15A\",\"#19d3f3\",\"#FF6692\",\"#B6E880\",\"#FF97FF\",\"#FECB52\"],\"font\":{\"color\":\"#2a3f5f\"},\"geo\":{\"bgcolor\":\"white\",\"lakecolor\":\"white\",\"landcolor\":\"#E5ECF6\",\"showlakes\":true,\"showland\":true,\"subunitcolor\":\"white\"},\"hoverlabel\":{\"align\":\"left\"},\"hovermode\":\"closest\",\"mapbox\":{\"style\":\"light\"},\"paper_bgcolor\":\"white\",\"plot_bgcolor\":\"#E5ECF6\",\"polar\":{\"angularaxis\":{\"gridcolor\":\"white\",\"linecolor\":\"white\",\"ticks\":\"\"},\"bgcolor\":\"#E5ECF6\",\"radialaxis\":{\"gridcolor\":\"white\",\"linecolor\":\"white\",\"ticks\":\"\"}},\"scene\":{\"xaxis\":{\"backgroundcolor\":\"#E5ECF6\",\"gridcolor\":\"white\",\"gridwidth\":2,\"linecolor\":\"white\",\"showbackground\":true,\"ticks\":\"\",\"zerolinecolor\":\"white\"},\"yaxis\":{\"backgroundcolor\":\"#E5ECF6\",\"gridcolor\":\"white\",\"gridwidth\":2,\"linecolor\":\"white\",\"showbackground\":true,\"ticks\":\"\",\"zerolinecolor\":\"white\"},\"zaxis\":{\"backgroundcolor\":\"#E5ECF6\",\"gridcolor\":\"white\",\"gridwidth\":2,\"linecolor\":\"white\",\"showbackground\":true,\"ticks\":\"\",\"zerolinecolor\":\"white\"}},\"shapedefaults\":{\"line\":{\"color\":\"#2a3f5f\"}},\"ternary\":{\"aaxis\":{\"gridcolor\":\"white\",\"linecolor\":\"white\",\"ticks\":\"\"},\"baxis\":{\"gridcolor\":\"white\",\"linecolor\":\"white\",\"ticks\":\"\"},\"bgcolor\":\"#E5ECF6\",\"caxis\":{\"gridcolor\":\"white\",\"linecolor\":\"white\",\"ticks\":\"\"}},\"title\":{\"x\":0.05},\"xaxis\":{\"automargin\":true,\"gridcolor\":\"white\",\"linecolor\":\"white\",\"ticks\":\"\",\"title\":{\"standoff\":15},\"zerolinecolor\":\"white\",\"zerolinewidth\":2},\"yaxis\":{\"automargin\":true,\"gridcolor\":\"white\",\"linecolor\":\"white\",\"ticks\":\"\",\"title\":{\"standoff\":15},\"zerolinecolor\":\"white\",\"zerolinewidth\":2}}},\"title\":{\"text\":\"Loss convergence: 30 iterations\"},\"xaxis\":{\"title\":{\"text\":\"Iteration\"}},\"yaxis\":{\"title\":{\"text\":\"Loss\"}}},                        {\"responsive\": true}                    ).then(function(){\n",
              "                            \n",
              "var gd = document.getElementById('3df2f1f7-a36d-4038-996a-4c166a977ee9');\n",
              "var x = new MutationObserver(function (mutations, observer) {{\n",
              "        var display = window.getComputedStyle(gd).display;\n",
              "        if (!display || display === 'none') {{\n",
              "            console.log([gd, 'removed!']);\n",
              "            Plotly.purge(gd);\n",
              "            observer.disconnect();\n",
              "        }}\n",
              "}});\n",
              "\n",
              "// Listen for the removal of the full notebook cells\n",
              "var notebookContainer = gd.closest('#notebook-container');\n",
              "if (notebookContainer) {{\n",
              "    x.observe(notebookContainer, {childList: true});\n",
              "}}\n",
              "\n",
              "// Listen for the clearing of the current output cell\n",
              "var outputEl = gd.closest('.output');\n",
              "if (outputEl) {{\n",
              "    x.observe(outputEl, {childList: true});\n",
              "}}\n",
              "\n",
              "                        })                };                            </script>        </div>\n",
              "</body>\n",
              "</html>"
            ]
          },
          "metadata": {}
        }
      ]
    },
    {
      "cell_type": "code",
      "source": [
        "if eval_mode:\n",
        "    predictions = als.get_encoded_predictions(model, 'val_rating.csv')\n",
        "    precision = als.get_metric(val_dataset_path)\n",
        "    print(f'Precision@{K}\\n{precision}')"
      ],
      "metadata": {
        "colab": {
          "base_uri": "https://localhost:8080/",
          "height": 432
        },
        "id": "ek6Y9DKH3N3-",
        "outputId": "0e248e70-4cfc-4a9c-8f33-d7bfa9da9047"
      },
      "id": "ek6Y9DKH3N3-",
      "execution_count": 42,
      "outputs": [
        {
          "output_type": "error",
          "ename": "IndexError",
          "evalue": "ignored",
          "traceback": [
            "\u001b[0;31m---------------------------------------------------------------------------\u001b[0m",
            "\u001b[0;31mIndexError\u001b[0m                                Traceback (most recent call last)",
            "\u001b[0;32m<ipython-input-42-a1673c21360d>\u001b[0m in \u001b[0;36m<module>\u001b[0;34m()\u001b[0m\n\u001b[1;32m      1\u001b[0m \u001b[0;32mif\u001b[0m \u001b[0meval_mode\u001b[0m\u001b[0;34m:\u001b[0m\u001b[0;34m\u001b[0m\u001b[0;34m\u001b[0m\u001b[0m\n\u001b[0;32m----> 2\u001b[0;31m     \u001b[0mpredictions\u001b[0m \u001b[0;34m=\u001b[0m \u001b[0mals\u001b[0m\u001b[0;34m.\u001b[0m\u001b[0mget_encoded_predictions\u001b[0m\u001b[0;34m(\u001b[0m\u001b[0mmodel\u001b[0m\u001b[0;34m,\u001b[0m \u001b[0;34m'val_rating.csv'\u001b[0m\u001b[0;34m)\u001b[0m\u001b[0;34m\u001b[0m\u001b[0;34m\u001b[0m\u001b[0m\n\u001b[0m\u001b[1;32m      3\u001b[0m     \u001b[0mprecision\u001b[0m \u001b[0;34m=\u001b[0m \u001b[0mals\u001b[0m\u001b[0;34m.\u001b[0m\u001b[0mget_metric\u001b[0m\u001b[0;34m(\u001b[0m\u001b[0mval_dataset_path\u001b[0m\u001b[0;34m)\u001b[0m\u001b[0;34m\u001b[0m\u001b[0;34m\u001b[0m\u001b[0m\n\u001b[1;32m      4\u001b[0m     \u001b[0mprint\u001b[0m\u001b[0;34m(\u001b[0m\u001b[0;34mf'Precision@{K}\\n{precision}'\u001b[0m\u001b[0;34m)\u001b[0m\u001b[0;34m\u001b[0m\u001b[0;34m\u001b[0m\u001b[0m\n",
            "\u001b[0;32m<ipython-input-39-46bb29bec18c>\u001b[0m in \u001b[0;36mget_encoded_predictions\u001b[0;34m(self, model, val_dataset_path)\u001b[0m\n\u001b[1;32m     81\u001b[0m         \u001b[0mself\u001b[0m\u001b[0;34m.\u001b[0m\u001b[0mpredictions\u001b[0m \u001b[0;34m=\u001b[0m \u001b[0;34m[\u001b[0m\u001b[0;34m]\u001b[0m\u001b[0;34m\u001b[0m\u001b[0;34m\u001b[0m\u001b[0m\n\u001b[1;32m     82\u001b[0m         \u001b[0;32mfor\u001b[0m \u001b[0muser\u001b[0m \u001b[0;32min\u001b[0m \u001b[0mself\u001b[0m\u001b[0;34m.\u001b[0m\u001b[0mrelevant_users\u001b[0m\u001b[0;34m:\u001b[0m\u001b[0;34m\u001b[0m\u001b[0;34m\u001b[0m\u001b[0m\n\u001b[0;32m---> 83\u001b[0;31m             \u001b[0mtop_k_movies\u001b[0m \u001b[0;34m=\u001b[0m \u001b[0mself\u001b[0m\u001b[0;34m.\u001b[0m\u001b[0mpredict\u001b[0m\u001b[0;34m(\u001b[0m\u001b[0mmodel\u001b[0m\u001b[0;34m,\u001b[0m \u001b[0muser\u001b[0m\u001b[0;34m)\u001b[0m\u001b[0;34m\u001b[0m\u001b[0;34m\u001b[0m\u001b[0m\n\u001b[0m\u001b[1;32m     84\u001b[0m             \u001b[0mself\u001b[0m\u001b[0;34m.\u001b[0m\u001b[0mpredictions\u001b[0m\u001b[0;34m.\u001b[0m\u001b[0mappend\u001b[0m\u001b[0;34m(\u001b[0m\u001b[0mtop_k_movies\u001b[0m\u001b[0;34m)\u001b[0m\u001b[0;34m\u001b[0m\u001b[0;34m\u001b[0m\u001b[0m\n\u001b[1;32m     85\u001b[0m         \u001b[0;32mreturn\u001b[0m \u001b[0mself\u001b[0m\u001b[0;34m.\u001b[0m\u001b[0mpredictions\u001b[0m\u001b[0;34m\u001b[0m\u001b[0;34m\u001b[0m\u001b[0m\n",
            "\u001b[0;32m<ipython-input-39-46bb29bec18c>\u001b[0m in \u001b[0;36mpredict\u001b[0;34m(self, model, user)\u001b[0m\n\u001b[1;32m     90\u001b[0m                                        \u001b[0mN\u001b[0m\u001b[0;34m=\u001b[0m\u001b[0;36m25\u001b[0m\u001b[0;34m,\u001b[0m\u001b[0;34m\u001b[0m\u001b[0;34m\u001b[0m\u001b[0m\n\u001b[1;32m     91\u001b[0m                                        \u001b[0mfilter_already_liked_items\u001b[0m\u001b[0;34m=\u001b[0m\u001b[0;32mFalse\u001b[0m\u001b[0;34m,\u001b[0m\u001b[0;34m\u001b[0m\u001b[0;34m\u001b[0m\u001b[0m\n\u001b[0;32m---> 92\u001b[0;31m                                        filter_items=self.irrelevant_movies)\n\u001b[0m\u001b[1;32m     93\u001b[0m         \u001b[0;32mreturn\u001b[0m \u001b[0mtop_k_movies\u001b[0m\u001b[0;34m\u001b[0m\u001b[0;34m\u001b[0m\u001b[0m\n\u001b[1;32m     94\u001b[0m \u001b[0;34m\u001b[0m\u001b[0m\n",
            "\u001b[0;32m/usr/local/lib/python3.7/dist-packages/implicit/cpu/matrix_factorization_base.py\u001b[0m in \u001b[0;36mrecommend\u001b[0;34m(self, userid, user_items, N, filter_already_liked_items, filter_items, recalculate_user, items)\u001b[0m\n\u001b[1;32m     78\u001b[0m             \u001b[0mN\u001b[0m\u001b[0;34m,\u001b[0m\u001b[0;34m\u001b[0m\u001b[0;34m\u001b[0m\u001b[0m\n\u001b[1;32m     79\u001b[0m             \u001b[0mfilter_query_items\u001b[0m\u001b[0;34m=\u001b[0m\u001b[0mfilter_query_items\u001b[0m\u001b[0;34m,\u001b[0m\u001b[0;34m\u001b[0m\u001b[0;34m\u001b[0m\u001b[0m\n\u001b[0;32m---> 80\u001b[0;31m             \u001b[0mfilter_items\u001b[0m\u001b[0;34m=\u001b[0m\u001b[0mfilter_items\u001b[0m\u001b[0;34m,\u001b[0m\u001b[0;34m\u001b[0m\u001b[0;34m\u001b[0m\u001b[0m\n\u001b[0m\u001b[1;32m     81\u001b[0m         )\n\u001b[1;32m     82\u001b[0m \u001b[0;34m\u001b[0m\u001b[0m\n",
            "\u001b[0;32mtopk.pyx\u001b[0m in \u001b[0;36mimplicit.cpu.topk.topk\u001b[0;34m()\u001b[0m\n",
            "\u001b[0;32mtopk.pyx\u001b[0m in \u001b[0;36mimplicit.cpu.topk._topk_batch\u001b[0;34m()\u001b[0m\n",
            "\u001b[0;31mIndexError\u001b[0m: index 79132 is out of bounds for axis 1 with size 70633"
          ]
        }
      ]
    },
    {
      "cell_type": "code",
      "source": [
        ""
      ],
      "metadata": {
        "id": "-gmhtoHn8GCw"
      },
      "id": "-gmhtoHn8GCw",
      "execution_count": null,
      "outputs": []
    }
  ],
  "metadata": {
    "colab": {
      "collapsed_sections": [],
      "name": "als-vs-lightfm.ipynb",
      "provenance": []
    },
    "kernelspec": {
      "display_name": "Python 3 (ipykernel)",
      "language": "python",
      "name": "python3"
    },
    "language_info": {
      "codemirror_mode": {
        "name": "ipython",
        "version": 3
      },
      "file_extension": ".py",
      "mimetype": "text/x-python",
      "name": "python",
      "nbconvert_exporter": "python",
      "pygments_lexer": "ipython3",
      "version": "3.8.13"
    },
    "widgets": {
      "application/vnd.jupyter.widget-state+json": {
        "d0dbed43087a4b1bb9f868d06b0ea0a9": {
          "model_module": "@jupyter-widgets/controls",
          "model_name": "HBoxModel",
          "model_module_version": "1.5.0",
          "state": {
            "_dom_classes": [],
            "_model_module": "@jupyter-widgets/controls",
            "_model_module_version": "1.5.0",
            "_model_name": "HBoxModel",
            "_view_count": null,
            "_view_module": "@jupyter-widgets/controls",
            "_view_module_version": "1.5.0",
            "_view_name": "HBoxView",
            "box_style": "",
            "children": [
              "IPY_MODEL_947f7cf31ae745ed9046b58200c98fc8",
              "IPY_MODEL_ceb466bea7254357b1596ddd592c2cc3",
              "IPY_MODEL_19f2d59fb1d940e9bc92a8ad01271980"
            ],
            "layout": "IPY_MODEL_4a5b406b64464136b12035d2ad157b11"
          }
        },
        "947f7cf31ae745ed9046b58200c98fc8": {
          "model_module": "@jupyter-widgets/controls",
          "model_name": "HTMLModel",
          "model_module_version": "1.5.0",
          "state": {
            "_dom_classes": [],
            "_model_module": "@jupyter-widgets/controls",
            "_model_module_version": "1.5.0",
            "_model_name": "HTMLModel",
            "_view_count": null,
            "_view_module": "@jupyter-widgets/controls",
            "_view_module_version": "1.5.0",
            "_view_name": "HTMLView",
            "description": "",
            "description_tooltip": null,
            "layout": "IPY_MODEL_e10382290c0c47548259b805506f403c",
            "placeholder": "​",
            "style": "IPY_MODEL_70576c8f908c41bfb60485349992fbe7",
            "value": "100%"
          }
        },
        "ceb466bea7254357b1596ddd592c2cc3": {
          "model_module": "@jupyter-widgets/controls",
          "model_name": "FloatProgressModel",
          "model_module_version": "1.5.0",
          "state": {
            "_dom_classes": [],
            "_model_module": "@jupyter-widgets/controls",
            "_model_module_version": "1.5.0",
            "_model_name": "FloatProgressModel",
            "_view_count": null,
            "_view_module": "@jupyter-widgets/controls",
            "_view_module_version": "1.5.0",
            "_view_name": "ProgressView",
            "bar_style": "success",
            "description": "",
            "description_tooltip": null,
            "layout": "IPY_MODEL_e80b4fa1ad3442479329caddf2f0d82a",
            "max": 30,
            "min": 0,
            "orientation": "horizontal",
            "style": "IPY_MODEL_4ecae6d801c64e789110de1d63216c1d",
            "value": 30
          }
        },
        "19f2d59fb1d940e9bc92a8ad01271980": {
          "model_module": "@jupyter-widgets/controls",
          "model_name": "HTMLModel",
          "model_module_version": "1.5.0",
          "state": {
            "_dom_classes": [],
            "_model_module": "@jupyter-widgets/controls",
            "_model_module_version": "1.5.0",
            "_model_name": "HTMLModel",
            "_view_count": null,
            "_view_module": "@jupyter-widgets/controls",
            "_view_module_version": "1.5.0",
            "_view_name": "HTMLView",
            "description": "",
            "description_tooltip": null,
            "layout": "IPY_MODEL_c9b02b893f524b4eba735f9fb82d8fba",
            "placeholder": "​",
            "style": "IPY_MODEL_794094fc5cef44c18dad68a59cf77092",
            "value": " 30/30 [03:07&lt;00:00,  6.18s/it, loss=0.0371]"
          }
        },
        "4a5b406b64464136b12035d2ad157b11": {
          "model_module": "@jupyter-widgets/base",
          "model_name": "LayoutModel",
          "model_module_version": "1.2.0",
          "state": {
            "_model_module": "@jupyter-widgets/base",
            "_model_module_version": "1.2.0",
            "_model_name": "LayoutModel",
            "_view_count": null,
            "_view_module": "@jupyter-widgets/base",
            "_view_module_version": "1.2.0",
            "_view_name": "LayoutView",
            "align_content": null,
            "align_items": null,
            "align_self": null,
            "border": null,
            "bottom": null,
            "display": null,
            "flex": null,
            "flex_flow": null,
            "grid_area": null,
            "grid_auto_columns": null,
            "grid_auto_flow": null,
            "grid_auto_rows": null,
            "grid_column": null,
            "grid_gap": null,
            "grid_row": null,
            "grid_template_areas": null,
            "grid_template_columns": null,
            "grid_template_rows": null,
            "height": null,
            "justify_content": null,
            "justify_items": null,
            "left": null,
            "margin": null,
            "max_height": null,
            "max_width": null,
            "min_height": null,
            "min_width": null,
            "object_fit": null,
            "object_position": null,
            "order": null,
            "overflow": null,
            "overflow_x": null,
            "overflow_y": null,
            "padding": null,
            "right": null,
            "top": null,
            "visibility": null,
            "width": null
          }
        },
        "e10382290c0c47548259b805506f403c": {
          "model_module": "@jupyter-widgets/base",
          "model_name": "LayoutModel",
          "model_module_version": "1.2.0",
          "state": {
            "_model_module": "@jupyter-widgets/base",
            "_model_module_version": "1.2.0",
            "_model_name": "LayoutModel",
            "_view_count": null,
            "_view_module": "@jupyter-widgets/base",
            "_view_module_version": "1.2.0",
            "_view_name": "LayoutView",
            "align_content": null,
            "align_items": null,
            "align_self": null,
            "border": null,
            "bottom": null,
            "display": null,
            "flex": null,
            "flex_flow": null,
            "grid_area": null,
            "grid_auto_columns": null,
            "grid_auto_flow": null,
            "grid_auto_rows": null,
            "grid_column": null,
            "grid_gap": null,
            "grid_row": null,
            "grid_template_areas": null,
            "grid_template_columns": null,
            "grid_template_rows": null,
            "height": null,
            "justify_content": null,
            "justify_items": null,
            "left": null,
            "margin": null,
            "max_height": null,
            "max_width": null,
            "min_height": null,
            "min_width": null,
            "object_fit": null,
            "object_position": null,
            "order": null,
            "overflow": null,
            "overflow_x": null,
            "overflow_y": null,
            "padding": null,
            "right": null,
            "top": null,
            "visibility": null,
            "width": null
          }
        },
        "70576c8f908c41bfb60485349992fbe7": {
          "model_module": "@jupyter-widgets/controls",
          "model_name": "DescriptionStyleModel",
          "model_module_version": "1.5.0",
          "state": {
            "_model_module": "@jupyter-widgets/controls",
            "_model_module_version": "1.5.0",
            "_model_name": "DescriptionStyleModel",
            "_view_count": null,
            "_view_module": "@jupyter-widgets/base",
            "_view_module_version": "1.2.0",
            "_view_name": "StyleView",
            "description_width": ""
          }
        },
        "e80b4fa1ad3442479329caddf2f0d82a": {
          "model_module": "@jupyter-widgets/base",
          "model_name": "LayoutModel",
          "model_module_version": "1.2.0",
          "state": {
            "_model_module": "@jupyter-widgets/base",
            "_model_module_version": "1.2.0",
            "_model_name": "LayoutModel",
            "_view_count": null,
            "_view_module": "@jupyter-widgets/base",
            "_view_module_version": "1.2.0",
            "_view_name": "LayoutView",
            "align_content": null,
            "align_items": null,
            "align_self": null,
            "border": null,
            "bottom": null,
            "display": null,
            "flex": null,
            "flex_flow": null,
            "grid_area": null,
            "grid_auto_columns": null,
            "grid_auto_flow": null,
            "grid_auto_rows": null,
            "grid_column": null,
            "grid_gap": null,
            "grid_row": null,
            "grid_template_areas": null,
            "grid_template_columns": null,
            "grid_template_rows": null,
            "height": null,
            "justify_content": null,
            "justify_items": null,
            "left": null,
            "margin": null,
            "max_height": null,
            "max_width": null,
            "min_height": null,
            "min_width": null,
            "object_fit": null,
            "object_position": null,
            "order": null,
            "overflow": null,
            "overflow_x": null,
            "overflow_y": null,
            "padding": null,
            "right": null,
            "top": null,
            "visibility": null,
            "width": null
          }
        },
        "4ecae6d801c64e789110de1d63216c1d": {
          "model_module": "@jupyter-widgets/controls",
          "model_name": "ProgressStyleModel",
          "model_module_version": "1.5.0",
          "state": {
            "_model_module": "@jupyter-widgets/controls",
            "_model_module_version": "1.5.0",
            "_model_name": "ProgressStyleModel",
            "_view_count": null,
            "_view_module": "@jupyter-widgets/base",
            "_view_module_version": "1.2.0",
            "_view_name": "StyleView",
            "bar_color": null,
            "description_width": ""
          }
        },
        "c9b02b893f524b4eba735f9fb82d8fba": {
          "model_module": "@jupyter-widgets/base",
          "model_name": "LayoutModel",
          "model_module_version": "1.2.0",
          "state": {
            "_model_module": "@jupyter-widgets/base",
            "_model_module_version": "1.2.0",
            "_model_name": "LayoutModel",
            "_view_count": null,
            "_view_module": "@jupyter-widgets/base",
            "_view_module_version": "1.2.0",
            "_view_name": "LayoutView",
            "align_content": null,
            "align_items": null,
            "align_self": null,
            "border": null,
            "bottom": null,
            "display": null,
            "flex": null,
            "flex_flow": null,
            "grid_area": null,
            "grid_auto_columns": null,
            "grid_auto_flow": null,
            "grid_auto_rows": null,
            "grid_column": null,
            "grid_gap": null,
            "grid_row": null,
            "grid_template_areas": null,
            "grid_template_columns": null,
            "grid_template_rows": null,
            "height": null,
            "justify_content": null,
            "justify_items": null,
            "left": null,
            "margin": null,
            "max_height": null,
            "max_width": null,
            "min_height": null,
            "min_width": null,
            "object_fit": null,
            "object_position": null,
            "order": null,
            "overflow": null,
            "overflow_x": null,
            "overflow_y": null,
            "padding": null,
            "right": null,
            "top": null,
            "visibility": null,
            "width": null
          }
        },
        "794094fc5cef44c18dad68a59cf77092": {
          "model_module": "@jupyter-widgets/controls",
          "model_name": "DescriptionStyleModel",
          "model_module_version": "1.5.0",
          "state": {
            "_model_module": "@jupyter-widgets/controls",
            "_model_module_version": "1.5.0",
            "_model_name": "DescriptionStyleModel",
            "_view_count": null,
            "_view_module": "@jupyter-widgets/base",
            "_view_module_version": "1.2.0",
            "_view_name": "StyleView",
            "description_width": ""
          }
        }
      }
    }
  },
  "nbformat": 4,
  "nbformat_minor": 5
}